{
 "cells": [
  {
   "cell_type": "code",
   "execution_count": 1,
   "metadata": {},
   "outputs": [],
   "source": [
    "from datetime import datetime, timedelta\n",
    "import matplotlib.pyplot as plt\n",
    "import matplotlib.dates as mdates\n",
    "import numpy as np\n",
    "import pandas as pd\n",
    "from pathlib import Path\n",
    "import re\n",
    "\n",
    "import metpy.calc as mpcalc\n",
    "from metpy.units import units\n",
    "# local module\n",
    "import mypaths"
   ]
  },
  {
   "cell_type": "code",
   "execution_count": 2,
   "metadata": {},
   "outputs": [],
   "source": [
    "date = pd.datetime(2018, 3, 2)"
   ]
  },
  {
   "cell_type": "code",
   "execution_count": 3,
   "metadata": {},
   "outputs": [],
   "source": [
    "time_range = (pd.date_range(start=date,\n",
    "                            freq='T',\n",
    "                            end=date+timedelta(hours=23, minutes=59, seconds=59))\n",
    "              .to_series()\n",
    "              .to_frame(name='time'))"
   ]
  },
  {
   "cell_type": "code",
   "execution_count": 4,
   "metadata": {},
   "outputs": [],
   "source": [
    "inputdir = mypaths.wpk_dir / '2_Leg' / 'TRUEWIND'"
   ]
  },
  {
   "cell_type": "code",
   "execution_count": 5,
   "metadata": {},
   "outputs": [
    {
     "name": "stdout",
     "output_type": "stream",
     "text": [
      "True\n"
     ]
    }
   ],
   "source": [
    "fname = inputdir / f'Wpk_st02@{date:%Y_%m_%d}.txt'\n",
    "print(fname.exists())\n",
    "# fname = inputdir / f'data_3_{date:%Y%m%d_%H}.log'"
   ]
  },
  {
   "cell_type": "code",
   "execution_count": 6,
   "metadata": {},
   "outputs": [],
   "source": [
    "def wpk_latlon_parser(s):\n",
    "    latlon_re = re.compile(r'''\n",
    "# Latitude part\n",
    "(?P<lat_hem>[NS])\\s*\n",
    "(?P<lat_deg>[0-9]{2})\\s*\n",
    "(?P<lat_min>[0-9]{1,2}\\.[0-9]{3})\\s*\n",
    "\n",
    "# Longitude part\n",
    "(?P<lon_hem>[EW])\\s*\n",
    "(?P<lon_deg>[0-9]{3})\\s*\n",
    "(?P<lon_min>[0-9]{1,2}\\.[0-9]{3})''', re.X)\n",
    "    \n",
    "    m = re.match(latlon_re, s)\n",
    "    if m.group('lat_hem') == 'S':\n",
    "        lat_factor = -1\n",
    "    else:\n",
    "        lat_factor = 1\n",
    "        \n",
    "    if m.group('lon_hem') == 'W':\n",
    "        lon_factor = -1\n",
    "    else:\n",
    "        lon_factor = 1\n",
    "        \n",
    "    lat = lat_factor * (float(m.group('lat_deg')) + float(m.group('lat_min')) / 60)\n",
    "    lon = lon_factor * (float(m.group('lon_deg')) + float(m.group('lon_min')) / 60)\n",
    "    \n",
    "    return lat, lon"
   ]
  },
  {
   "cell_type": "code",
   "execution_count": 7,
   "metadata": {},
   "outputs": [],
   "source": [
    "df = pd.read_csv(fname, parse_dates=[[1, 2]], index_col=0,\n",
    "                 date_parser=lambda x: datetime.strptime(x, '%y/%m/%d %H:%M:%S'))\n",
    "# df.index.rename('DateTime', inplace=True)\n",
    "df[['latitude', 'longitude']] = (df['Ship position']\n",
    "                                 .map(wpk_latlon_parser, na_action='ignore')\n",
    "                                 .apply(pd.Series)\n",
    "                                 .rename(mapper={0: 'latitude', 1: 'longitude'}, axis=1))\n",
    "df = df.drop(labels=['Unit ID', 'Ship position'], axis=1)"
   ]
  },
  {
   "cell_type": "code",
   "execution_count": 8,
   "metadata": {},
   "outputs": [],
   "source": [
    "# df0 = pd.merge(time_range, df,\n",
    "#                how='left', left_index=True, right_index=True)\n",
    "# df0.shape"
   ]
  },
  {
   "cell_type": "code",
   "execution_count": 9,
   "metadata": {},
   "outputs": [],
   "source": [
    "labels = time_range.index\n",
    "df0 = pd.concat([df, time_range]).sort_index().interpolate(method='values', limit_direction='both').drop('time', axis=1)\n",
    "df0.index = df0.index.rename('time')\n",
    "df0 = df0.loc[df0.index.intersection(labels)]\n",
    "df0 = df0[~df0.index.duplicated(keep='first')]"
   ]
  },
  {
   "cell_type": "code",
   "execution_count": 10,
   "metadata": {},
   "outputs": [
    {
     "data": {
      "text/html": [
       "<div>\n",
       "<style scoped>\n",
       "    .dataframe tbody tr th:only-of-type {\n",
       "        vertical-align: middle;\n",
       "    }\n",
       "\n",
       "    .dataframe tbody tr th {\n",
       "        vertical-align: top;\n",
       "    }\n",
       "\n",
       "    .dataframe thead th {\n",
       "        text-align: right;\n",
       "    }\n",
       "</style>\n",
       "<table border=\"1\" class=\"dataframe\">\n",
       "  <thead>\n",
       "    <tr style=\"text-align: right;\">\n",
       "      <th></th>\n",
       "      <th>Air T (C)</th>\n",
       "      <th>BIT</th>\n",
       "      <th>Barometric pressure (mbar)</th>\n",
       "      <th>CMG</th>\n",
       "      <th>Gyro</th>\n",
       "      <th>RH (%)</th>\n",
       "      <th>Rel. wind dir (ref. to ship bow)</th>\n",
       "      <th>Rel. wind speed (m/s)</th>\n",
       "      <th>Ship velocity m/s</th>\n",
       "      <th>Sigma theta</th>\n",
       "      <th>Solar (W/m^2)</th>\n",
       "      <th>True W Dir (Referred to N)</th>\n",
       "      <th>True wind sp (m/s)</th>\n",
       "      <th>VBAT (Vdc)</th>\n",
       "      <th>Wind gust (m/s)</th>\n",
       "      <th>latitude</th>\n",
       "      <th>longitude</th>\n",
       "    </tr>\n",
       "    <tr>\n",
       "      <th>time</th>\n",
       "      <th></th>\n",
       "      <th></th>\n",
       "      <th></th>\n",
       "      <th></th>\n",
       "      <th></th>\n",
       "      <th></th>\n",
       "      <th></th>\n",
       "      <th></th>\n",
       "      <th></th>\n",
       "      <th></th>\n",
       "      <th></th>\n",
       "      <th></th>\n",
       "      <th></th>\n",
       "      <th></th>\n",
       "      <th></th>\n",
       "      <th></th>\n",
       "      <th></th>\n",
       "    </tr>\n",
       "  </thead>\n",
       "  <tbody>\n",
       "    <tr>\n",
       "      <th>2018-03-02 00:00:00</th>\n",
       "      <td>-3.6</td>\n",
       "      <td>1000.0</td>\n",
       "      <td>801.90</td>\n",
       "      <td>159.0</td>\n",
       "      <td>153.60</td>\n",
       "      <td>64.0</td>\n",
       "      <td>244.0</td>\n",
       "      <td>6.30</td>\n",
       "      <td>4.00</td>\n",
       "      <td>6.80</td>\n",
       "      <td>0.0</td>\n",
       "      <td>15.40</td>\n",
       "      <td>9.10</td>\n",
       "      <td>15.8</td>\n",
       "      <td>7.40</td>\n",
       "      <td>69.840200</td>\n",
       "      <td>-16.947383</td>\n",
       "    </tr>\n",
       "    <tr>\n",
       "      <th>2018-03-02 00:01:00</th>\n",
       "      <td>-3.6</td>\n",
       "      <td>1000.0</td>\n",
       "      <td>801.95</td>\n",
       "      <td>159.5</td>\n",
       "      <td>153.65</td>\n",
       "      <td>64.5</td>\n",
       "      <td>244.0</td>\n",
       "      <td>7.15</td>\n",
       "      <td>4.00</td>\n",
       "      <td>4.95</td>\n",
       "      <td>0.0</td>\n",
       "      <td>17.40</td>\n",
       "      <td>9.90</td>\n",
       "      <td>15.8</td>\n",
       "      <td>8.20</td>\n",
       "      <td>69.839217</td>\n",
       "      <td>-16.946133</td>\n",
       "    </tr>\n",
       "    <tr>\n",
       "      <th>2018-03-02 00:02:00</th>\n",
       "      <td>-3.6</td>\n",
       "      <td>1000.0</td>\n",
       "      <td>802.10</td>\n",
       "      <td>158.5</td>\n",
       "      <td>153.65</td>\n",
       "      <td>64.0</td>\n",
       "      <td>240.0</td>\n",
       "      <td>7.60</td>\n",
       "      <td>4.00</td>\n",
       "      <td>4.10</td>\n",
       "      <td>0.0</td>\n",
       "      <td>15.40</td>\n",
       "      <td>10.40</td>\n",
       "      <td>15.8</td>\n",
       "      <td>8.55</td>\n",
       "      <td>69.837258</td>\n",
       "      <td>-16.943642</td>\n",
       "    </tr>\n",
       "    <tr>\n",
       "      <th>2018-03-02 00:03:00</th>\n",
       "      <td>-3.6</td>\n",
       "      <td>1000.0</td>\n",
       "      <td>802.25</td>\n",
       "      <td>156.0</td>\n",
       "      <td>153.10</td>\n",
       "      <td>63.0</td>\n",
       "      <td>235.0</td>\n",
       "      <td>7.00</td>\n",
       "      <td>4.05</td>\n",
       "      <td>6.10</td>\n",
       "      <td>0.0</td>\n",
       "      <td>9.55</td>\n",
       "      <td>10.00</td>\n",
       "      <td>15.8</td>\n",
       "      <td>8.00</td>\n",
       "      <td>69.835292</td>\n",
       "      <td>-16.941125</td>\n",
       "    </tr>\n",
       "    <tr>\n",
       "      <th>2018-03-02 00:04:00</th>\n",
       "      <td>-3.6</td>\n",
       "      <td>1000.0</td>\n",
       "      <td>802.20</td>\n",
       "      <td>154.5</td>\n",
       "      <td>153.00</td>\n",
       "      <td>63.0</td>\n",
       "      <td>239.5</td>\n",
       "      <td>7.25</td>\n",
       "      <td>4.00</td>\n",
       "      <td>5.15</td>\n",
       "      <td>0.0</td>\n",
       "      <td>12.75</td>\n",
       "      <td>9.95</td>\n",
       "      <td>15.8</td>\n",
       "      <td>8.55</td>\n",
       "      <td>69.833300</td>\n",
       "      <td>-16.938617</td>\n",
       "    </tr>\n",
       "  </tbody>\n",
       "</table>\n",
       "</div>"
      ],
      "text/plain": [
       "                     Air T (C)     BIT  Barometric pressure (mbar)    CMG  \\\n",
       "time                                                                        \n",
       "2018-03-02 00:00:00       -3.6  1000.0                      801.90  159.0   \n",
       "2018-03-02 00:01:00       -3.6  1000.0                      801.95  159.5   \n",
       "2018-03-02 00:02:00       -3.6  1000.0                      802.10  158.5   \n",
       "2018-03-02 00:03:00       -3.6  1000.0                      802.25  156.0   \n",
       "2018-03-02 00:04:00       -3.6  1000.0                      802.20  154.5   \n",
       "\n",
       "                       Gyro  RH (%)  Rel. wind dir (ref. to ship bow)  \\\n",
       "time                                                                    \n",
       "2018-03-02 00:00:00  153.60    64.0                             244.0   \n",
       "2018-03-02 00:01:00  153.65    64.5                             244.0   \n",
       "2018-03-02 00:02:00  153.65    64.0                             240.0   \n",
       "2018-03-02 00:03:00  153.10    63.0                             235.0   \n",
       "2018-03-02 00:04:00  153.00    63.0                             239.5   \n",
       "\n",
       "                     Rel. wind speed (m/s)  Ship velocity m/s  Sigma theta  \\\n",
       "time                                                                         \n",
       "2018-03-02 00:00:00                   6.30               4.00         6.80   \n",
       "2018-03-02 00:01:00                   7.15               4.00         4.95   \n",
       "2018-03-02 00:02:00                   7.60               4.00         4.10   \n",
       "2018-03-02 00:03:00                   7.00               4.05         6.10   \n",
       "2018-03-02 00:04:00                   7.25               4.00         5.15   \n",
       "\n",
       "                     Solar (W/m^2)  True W Dir (Referred to N)  \\\n",
       "time                                                             \n",
       "2018-03-02 00:00:00            0.0                       15.40   \n",
       "2018-03-02 00:01:00            0.0                       17.40   \n",
       "2018-03-02 00:02:00            0.0                       15.40   \n",
       "2018-03-02 00:03:00            0.0                        9.55   \n",
       "2018-03-02 00:04:00            0.0                       12.75   \n",
       "\n",
       "                     True wind sp (m/s)  VBAT (Vdc)  Wind gust (m/s)  \\\n",
       "time                                                                   \n",
       "2018-03-02 00:00:00                9.10        15.8             7.40   \n",
       "2018-03-02 00:01:00                9.90        15.8             8.20   \n",
       "2018-03-02 00:02:00               10.40        15.8             8.55   \n",
       "2018-03-02 00:03:00               10.00        15.8             8.00   \n",
       "2018-03-02 00:04:00                9.95        15.8             8.55   \n",
       "\n",
       "                      latitude  longitude  \n",
       "time                                       \n",
       "2018-03-02 00:00:00  69.840200 -16.947383  \n",
       "2018-03-02 00:01:00  69.839217 -16.946133  \n",
       "2018-03-02 00:02:00  69.837258 -16.943642  \n",
       "2018-03-02 00:03:00  69.835292 -16.941125  \n",
       "2018-03-02 00:04:00  69.833300 -16.938617  "
      ]
     },
     "execution_count": 10,
     "metadata": {},
     "output_type": "execute_result"
    }
   ],
   "source": [
    "df0.head()"
   ]
  },
  {
   "cell_type": "code",
   "execution_count": 11,
   "metadata": {},
   "outputs": [
    {
     "data": {
      "text/plain": [
       "<matplotlib.axes._subplots.AxesSubplot at 0x7fb941907048>"
      ]
     },
     "execution_count": 11,
     "metadata": {},
     "output_type": "execute_result"
    },
    {
     "data": {
      "image/png": "[encoded data removed]",
      "text/plain": [
       "<Figure size 432x288 with 1 Axes>"
      ]
     },
     "metadata": {},
     "output_type": "display_data"
    }
   ],
   "source": [
    "df['Air T (C)'].plot()\n",
    "df0['Air T (C)'].plot()"
   ]
  },
  {
   "cell_type": "code",
   "execution_count": 12,
   "metadata": {},
   "outputs": [
    {
     "data": {
      "text/plain": [
       "<matplotlib.axes._subplots.AxesSubplot at 0x7fb941a6fe48>"
      ]
     },
     "execution_count": 12,
     "metadata": {},
     "output_type": "execute_result"
    },
    {
     "data": {
      "image/png": "[encoded data removed]",
      "text/plain": [
       "<Figure size 432x288 with 1 Axes>"
      ]
     },
     "metadata": {},
     "output_type": "display_data"
    }
   ],
   "source": [
    "fig, ax = plt.subplots()\n",
    "df.plot(ax=ax, x='longitude', y='latitude')\n",
    "df0.plot(ax=ax, x='longitude', y='latitude')"
   ]
  }
 ],
 "metadata": {
  "kernelspec": {
   "display_name": "Python [conda env:igp]",
   "language": "python",
   "name": "conda-env-igp-py"
  },
  "language_info": {
   "codemirror_mode": {
    "name": "ipython",
    "version": 3
   },
   "file_extension": ".py",
   "mimetype": "text/x-python",
   "name": "python",
   "nbconvert_exporter": "python",
   "pygments_lexer": "ipython3",
   "version": "3.6.5"
  }
 },
 "nbformat": 4,
 "nbformat_minor": 2
}
